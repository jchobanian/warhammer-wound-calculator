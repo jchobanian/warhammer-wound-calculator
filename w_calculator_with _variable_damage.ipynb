{
 "cells": [
  {
   "cell_type": "code",
   "execution_count": 20,
   "metadata": {},
   "outputs": [
    {
     "name": "stdout",
     "output_type": "stream",
     "text": [
      "expectation value:  7\n",
      "expected damage output between: 5 and 9\n",
      "1 --> 99.99 %\n",
      "2 --> 99.78 %\n",
      "3 --> 98.81 %\n",
      "4 --> 95.17 %\n",
      "5 --> 86.92 %\n",
      "6 --> 72.04 %\n",
      "7 --> 53.09 %\n",
      "8 --> 33.27 %\n",
      "9 --> 17.13 %\n",
      "10 --> 7.03 %\n",
      "11 --> 2.24 %\n",
      "12 --> 0.59 %\n",
      "13 --> 0.1 %\n",
      "14 --> 0.02 %\n"
     ]
    },
    {
     "data": {
      "image/png": "[encoded data removed]",
      "text/plain": [
       "<Figure size 842.4x595.44 with 1 Axes>"
      ]
     },
     "metadata": {},
     "output_type": "display_data"
    }
   ],
   "source": [
    "import random\n",
    "import seaborn as sns\n",
    "\n",
    "# ws = int(input('What is the hit roll for your attacks?'))\n",
    "# S = int(input('What is the strength of your weapon?'))\n",
    "# ap = int(input(\"What is your weapon's armor penetration?\"))\n",
    "# damage = int(input('What is the damage of your weapon?'))\n",
    "# T = int(input('What is the toughness of your target?'))\n",
    "# save =int(input(\"What is your target's save throw?\"))\n",
    "# attacks = int(input('how many attacks do you have?'))\n",
    "\n",
    "# attacker characteristics\n",
    "ws = 3\n",
    "S = 4\n",
    "ap = 0\n",
    "damage = 1\n",
    "attacks = 15\n",
    "\n",
    "# defender characteristics\n",
    "T = 3\n",
    "save = 6\n",
    "invulnerable_save = 7\n",
    "\n",
    "# are there rerolls or modifiers in play\n",
    "reroll_1s_hit = False\n",
    "reroll_hit = False\n",
    "reroll_1s_wound = False\n",
    "reroll_wound = False\n",
    "plus_1_to_wound = False\n",
    "\n",
    "# set variables\n",
    "n = 1000\n",
    "spread = []\n",
    "\n",
    "#define a roll\n",
    "def roll(s=6):\n",
    "    return random.randint(1,s)\n",
    "\n",
    "#determine the wound roll\n",
    "wound = 5\n",
    "if S >= 2*T:\n",
    "    wound = 2\n",
    "elif S > T:\n",
    "    wound = 3\n",
    "elif S == T:\n",
    "    wound = 4\n",
    "elif 2*S <= T:\n",
    "    wound = 6\n",
    "if plus_1_to_wound:\n",
    "    wound = wound - 1\n",
    "\n",
    "# do 1000 simulations\n",
    "for i in range(10000):\n",
    "    results = []\n",
    "    for shot in range(attacks):\n",
    "        # hit roll\n",
    "        hit_roll = roll()\n",
    "        if reroll_hit and hit_roll < ws:\n",
    "            hit_roll = roll()\n",
    "        elif reroll_1s_hit and hit_roll ==1:\n",
    "            hit_roll = roll()\n",
    "        if hit_roll >= ws:\n",
    "            \n",
    "            # wound roll\n",
    "            wound_roll = roll()\n",
    "            if reroll_wound and wound_roll < wound:\n",
    "                wound_roll = roll()\n",
    "            elif reroll_1s_wound and wound_roll ==1:\n",
    "                wound_roll = roll()\n",
    "            if wound_roll >= wound:\n",
    "                    \n",
    "                # save roll\n",
    "                if roll() <= min(save + ap, invulnerable_save):\n",
    "                    results.append(damage)\n",
    "                else:\n",
    "                    results.append(0)\n",
    "            else: \n",
    "                results.append(0)\n",
    "        else:\n",
    "            results.append(0)\n",
    "\n",
    "    spread.append(sum(results))\n",
    "spread.sort()\n",
    "# print(spread)\n",
    "print('expectation value: ', spread[5000])\n",
    "print('expected damage output between:',spread[1667],'and',spread[8333])\n",
    "# probability of each outcome\n",
    "outcome = 0\n",
    "\n",
    "for index, number in enumerate(spread):\n",
    "    if number > outcome:\n",
    "        outcome = number\n",
    "        print(outcome,'-->', round((10000-index)/100,2), '%' )\n",
    "\n",
    "sns.set(rc={'figure.figsize':(11.7,8.27)})\n",
    "g = sns.countplot(x=spread)\n",
    "# g.set_yticklabels(['0%','2%','4%','6%','8%','10%','12%','14%'])"
   ]
  }
 ],
 "metadata": {
  "kernelspec": {
   "display_name": "Python 3.9.7 ('base')",
   "language": "python",
   "name": "python3"
  },
  "language_info": {
   "codemirror_mode": {
    "name": "ipython",
    "version": 3
   },
   "file_extension": ".py",
   "mimetype": "text/x-python",
   "name": "python",
   "nbconvert_exporter": "python",
   "pygments_lexer": "ipython3",
   "version": "3.9.7"
  },
  "orig_nbformat": 4,
  "vscode": {
   "interpreter": {
    "hash": "db5ce6e7fa14788ff720c1c8872352751a1050b1801ffd1c839f434971ac970f"
   }
  }
 },
 "nbformat": 4,
 "nbformat_minor": 2
}
